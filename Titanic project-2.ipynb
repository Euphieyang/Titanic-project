{
 "cells": [
  {
   "cell_type": "markdown",
   "id": "ca43cdcb",
   "metadata": {},
   "source": [
    "# Objects:"
   ]
  },
  {
   "cell_type": "markdown",
   "id": "95ce25fd",
   "metadata": {},
   "source": [
    "\n",
    "1. Find an appropriate model for data prediction<br>\n",
    "2. Find out the importance of features"
   ]
  },
  {
   "cell_type": "markdown",
   "id": "d87c2fdc",
   "metadata": {},
   "source": [
    "## Find an appropriate model for data prediction"
   ]
  },
  {
   "cell_type": "markdown",
   "id": "41f7ceb7",
   "metadata": {},
   "source": [
    "### 1. Import package"
   ]
  },
  {
   "cell_type": "code",
   "execution_count": 30,
   "id": "ba57300c",
   "metadata": {},
   "outputs": [],
   "source": [
    "#載入pandas\n",
    "import pandas as pd\n",
    "\n",
    "#載入邏輯斯回歸\n",
    "from sklearn.linear_model import LogisticRegression\n",
    "\n",
    "#載入決策數\n",
    "from sklearn.tree import DecisionTreeClassifier\n",
    "\n",
    "#載入隨機森林\n",
    "from sklearn.ensemble import RandomForestClassifier\n",
    "\n",
    "#切為訓練節測試集\n",
    "from sklearn.model_selection import train_test_split\n",
    "\n",
    "#ROC Curve\n",
    "from sklearn.metrics import plot_roc_curve"
   ]
  },
  {
   "cell_type": "markdown",
   "id": "a787bd39",
   "metadata": {},
   "source": [
    "### 2. 了解資料內容"
   ]
  },
  {
   "cell_type": "code",
   "execution_count": 3,
   "id": "2d28621b",
   "metadata": {},
   "outputs": [
    {
     "data": {
      "text/html": [
       "<div>\n",
       "<style scoped>\n",
       "    .dataframe tbody tr th:only-of-type {\n",
       "        vertical-align: middle;\n",
       "    }\n",
       "\n",
       "    .dataframe tbody tr th {\n",
       "        vertical-align: top;\n",
       "    }\n",
       "\n",
       "    .dataframe thead th {\n",
       "        text-align: right;\n",
       "    }\n",
       "</style>\n",
       "<table border=\"1\" class=\"dataframe\">\n",
       "  <thead>\n",
       "    <tr style=\"text-align: right;\">\n",
       "      <th></th>\n",
       "      <th>Pclass</th>\n",
       "      <th>Sex</th>\n",
       "      <th>Age</th>\n",
       "      <th>SiblingsSpouses_Aboard</th>\n",
       "      <th>ParentsChildren_Aboard</th>\n",
       "      <th>Fare</th>\n",
       "      <th>Survived</th>\n",
       "    </tr>\n",
       "  </thead>\n",
       "  <tbody>\n",
       "    <tr>\n",
       "      <th>0</th>\n",
       "      <td>3</td>\n",
       "      <td>male</td>\n",
       "      <td>22.0</td>\n",
       "      <td>1</td>\n",
       "      <td>0</td>\n",
       "      <td>7.2500</td>\n",
       "      <td>0</td>\n",
       "    </tr>\n",
       "    <tr>\n",
       "      <th>1</th>\n",
       "      <td>1</td>\n",
       "      <td>female</td>\n",
       "      <td>38.0</td>\n",
       "      <td>1</td>\n",
       "      <td>0</td>\n",
       "      <td>71.2833</td>\n",
       "      <td>1</td>\n",
       "    </tr>\n",
       "    <tr>\n",
       "      <th>2</th>\n",
       "      <td>3</td>\n",
       "      <td>female</td>\n",
       "      <td>26.0</td>\n",
       "      <td>0</td>\n",
       "      <td>0</td>\n",
       "      <td>7.9250</td>\n",
       "      <td>1</td>\n",
       "    </tr>\n",
       "    <tr>\n",
       "      <th>3</th>\n",
       "      <td>1</td>\n",
       "      <td>female</td>\n",
       "      <td>35.0</td>\n",
       "      <td>1</td>\n",
       "      <td>0</td>\n",
       "      <td>53.1000</td>\n",
       "      <td>1</td>\n",
       "    </tr>\n",
       "    <tr>\n",
       "      <th>4</th>\n",
       "      <td>3</td>\n",
       "      <td>male</td>\n",
       "      <td>35.0</td>\n",
       "      <td>0</td>\n",
       "      <td>0</td>\n",
       "      <td>8.0500</td>\n",
       "      <td>0</td>\n",
       "    </tr>\n",
       "  </tbody>\n",
       "</table>\n",
       "</div>"
      ],
      "text/plain": [
       "   Pclass     Sex   Age  SiblingsSpouses_Aboard  ParentsChildren_Aboard  \\\n",
       "0       3    male  22.0                       1                       0   \n",
       "1       1  female  38.0                       1                       0   \n",
       "2       3  female  26.0                       0                       0   \n",
       "3       1  female  35.0                       1                       0   \n",
       "4       3    male  35.0                       0                       0   \n",
       "\n",
       "      Fare  Survived  \n",
       "0   7.2500         0  \n",
       "1  71.2833         1  \n",
       "2   7.9250         1  \n",
       "3  53.1000         1  \n",
       "4   8.0500         0  "
      ]
     },
     "execution_count": 3,
     "metadata": {},
     "output_type": "execute_result"
    }
   ],
   "source": [
    "df=pd.read_csv('titanic.csv')\n",
    "df.head()"
   ]
  },
  {
   "cell_type": "code",
   "execution_count": 31,
   "id": "53a924cc",
   "metadata": {},
   "outputs": [
    {
     "name": "stdout",
     "output_type": "stream",
     "text": [
      "<class 'pandas.core.frame.DataFrame'>\n",
      "RangeIndex: 887 entries, 0 to 886\n",
      "Data columns (total 7 columns):\n",
      " #   Column                  Non-Null Count  Dtype  \n",
      "---  ------                  --------------  -----  \n",
      " 0   Pclass                  887 non-null    int64  \n",
      " 1   Sex                     887 non-null    object \n",
      " 2   Age                     887 non-null    float64\n",
      " 3   SiblingsSpouses_Aboard  887 non-null    int64  \n",
      " 4   ParentsChildren_Aboard  887 non-null    int64  \n",
      " 5   Fare                    887 non-null    float64\n",
      " 6   Survived                887 non-null    int64  \n",
      "dtypes: float64(2), int64(4), object(1)\n",
      "memory usage: 48.6+ KB\n"
     ]
    }
   ],
   "source": [
    "#了解資料\n",
    "df.info()"
   ]
  },
  {
   "cell_type": "code",
   "execution_count": 32,
   "id": "5c685921",
   "metadata": {},
   "outputs": [
    {
     "data": {
      "text/html": [
       "<div>\n",
       "<style scoped>\n",
       "    .dataframe tbody tr th:only-of-type {\n",
       "        vertical-align: middle;\n",
       "    }\n",
       "\n",
       "    .dataframe tbody tr th {\n",
       "        vertical-align: top;\n",
       "    }\n",
       "\n",
       "    .dataframe thead th {\n",
       "        text-align: right;\n",
       "    }\n",
       "</style>\n",
       "<table border=\"1\" class=\"dataframe\">\n",
       "  <thead>\n",
       "    <tr style=\"text-align: right;\">\n",
       "      <th></th>\n",
       "      <th>Age</th>\n",
       "      <th>SiblingsSpouses_Aboard</th>\n",
       "      <th>ParentsChildren_Aboard</th>\n",
       "      <th>Fare</th>\n",
       "      <th>Survived</th>\n",
       "      <th>Sex_male</th>\n",
       "      <th>Pclass_2</th>\n",
       "      <th>Pclass_3</th>\n",
       "    </tr>\n",
       "  </thead>\n",
       "  <tbody>\n",
       "    <tr>\n",
       "      <th>0</th>\n",
       "      <td>22.0</td>\n",
       "      <td>1</td>\n",
       "      <td>0</td>\n",
       "      <td>7.2500</td>\n",
       "      <td>0</td>\n",
       "      <td>1</td>\n",
       "      <td>0</td>\n",
       "      <td>1</td>\n",
       "    </tr>\n",
       "    <tr>\n",
       "      <th>1</th>\n",
       "      <td>38.0</td>\n",
       "      <td>1</td>\n",
       "      <td>0</td>\n",
       "      <td>71.2833</td>\n",
       "      <td>1</td>\n",
       "      <td>0</td>\n",
       "      <td>0</td>\n",
       "      <td>0</td>\n",
       "    </tr>\n",
       "    <tr>\n",
       "      <th>2</th>\n",
       "      <td>26.0</td>\n",
       "      <td>0</td>\n",
       "      <td>0</td>\n",
       "      <td>7.9250</td>\n",
       "      <td>1</td>\n",
       "      <td>0</td>\n",
       "      <td>0</td>\n",
       "      <td>1</td>\n",
       "    </tr>\n",
       "    <tr>\n",
       "      <th>3</th>\n",
       "      <td>35.0</td>\n",
       "      <td>1</td>\n",
       "      <td>0</td>\n",
       "      <td>53.1000</td>\n",
       "      <td>1</td>\n",
       "      <td>0</td>\n",
       "      <td>0</td>\n",
       "      <td>0</td>\n",
       "    </tr>\n",
       "    <tr>\n",
       "      <th>4</th>\n",
       "      <td>35.0</td>\n",
       "      <td>0</td>\n",
       "      <td>0</td>\n",
       "      <td>8.0500</td>\n",
       "      <td>0</td>\n",
       "      <td>1</td>\n",
       "      <td>0</td>\n",
       "      <td>1</td>\n",
       "    </tr>\n",
       "  </tbody>\n",
       "</table>\n",
       "</div>"
      ],
      "text/plain": [
       "    Age  SiblingsSpouses_Aboard  ParentsChildren_Aboard     Fare  Survived  \\\n",
       "0  22.0                       1                       0   7.2500         0   \n",
       "1  38.0                       1                       0  71.2833         1   \n",
       "2  26.0                       0                       0   7.9250         1   \n",
       "3  35.0                       1                       0  53.1000         1   \n",
       "4  35.0                       0                       0   8.0500         0   \n",
       "\n",
       "   Sex_male  Pclass_2  Pclass_3  \n",
       "0         1         0         1  \n",
       "1         0         0         0  \n",
       "2         0         0         1  \n",
       "3         0         0         0  \n",
       "4         1         0         1  "
      ]
     },
     "execution_count": 32,
     "metadata": {},
     "output_type": "execute_result"
    }
   ],
   "source": [
    "#性別做虛擬變數\n",
    "df1=pd.get_dummies(df, columns=['Sex','Pclass'],drop_first=True)\n",
    "df1.head()"
   ]
  },
  {
   "cell_type": "code",
   "execution_count": 33,
   "id": "c4246aa4",
   "metadata": {},
   "outputs": [
    {
     "name": "stdout",
     "output_type": "stream",
     "text": [
      "<class 'pandas.core.frame.DataFrame'>\n",
      "RangeIndex: 887 entries, 0 to 886\n",
      "Data columns (total 8 columns):\n",
      " #   Column                  Non-Null Count  Dtype  \n",
      "---  ------                  --------------  -----  \n",
      " 0   Age                     887 non-null    float64\n",
      " 1   SiblingsSpouses_Aboard  887 non-null    int64  \n",
      " 2   ParentsChildren_Aboard  887 non-null    int64  \n",
      " 3   Fare                    887 non-null    float64\n",
      " 4   Survived                887 non-null    int64  \n",
      " 5   Sex_male                887 non-null    uint8  \n",
      " 6   Pclass_2                887 non-null    uint8  \n",
      " 7   Pclass_3                887 non-null    uint8  \n",
      "dtypes: float64(2), int64(3), uint8(3)\n",
      "memory usage: 37.4 KB\n"
     ]
    }
   ],
   "source": [
    "#確認資料處理\n",
    "df1.info()"
   ]
  },
  {
   "cell_type": "markdown",
   "id": "8b46d53a",
   "metadata": {},
   "source": [
    "#### 自變數X"
   ]
  },
  {
   "cell_type": "code",
   "execution_count": 48,
   "id": "58fe4202",
   "metadata": {},
   "outputs": [],
   "source": [
    "X=df1.iloc[:,[0,1,2,3,5,6,7]]"
   ]
  },
  {
   "cell_type": "markdown",
   "id": "ca832763",
   "metadata": {},
   "source": [
    "#### 依變數Y"
   ]
  },
  {
   "cell_type": "code",
   "execution_count": 49,
   "id": "5ff2cc52",
   "metadata": {},
   "outputs": [
    {
     "name": "stdout",
     "output_type": "stream",
     "text": [
      "0      0\n",
      "1      1\n",
      "2      1\n",
      "3      1\n",
      "4      0\n",
      "      ..\n",
      "882    0\n",
      "883    1\n",
      "884    0\n",
      "885    1\n",
      "886    0\n",
      "Name: Survived, Length: 887, dtype: int64\n"
     ]
    }
   ],
   "source": [
    "#Y為survived: 0為沒有, 1為有\n",
    "y=df['Survived']\n",
    "print(y)"
   ]
  },
  {
   "cell_type": "markdown",
   "id": "0f957fce",
   "metadata": {},
   "source": [
    "# Machine Learning"
   ]
  },
  {
   "cell_type": "markdown",
   "id": "8d5a7b28",
   "metadata": {},
   "source": [
    "## 訓練資料"
   ]
  },
  {
   "cell_type": "code",
   "execution_count": 50,
   "id": "2c9aead1",
   "metadata": {},
   "outputs": [],
   "source": [
    "#以7:3的比例下去分\n",
    "#設立每次所抓取的資料為固定同一群\n",
    "X_train,X_test,y_train,y_test=train_test_split(X,y,test_size=0.3,random_state=0)"
   ]
  },
  {
   "cell_type": "markdown",
   "id": "23c9fa50",
   "metadata": {},
   "source": [
    "### 模型選擇"
   ]
  },
  {
   "cell_type": "markdown",
   "id": "57e2e36c",
   "metadata": {},
   "source": [
    "#### 1. logisticregression"
   ]
  },
  {
   "cell_type": "code",
   "execution_count": 53,
   "id": "b9db405e",
   "metadata": {},
   "outputs": [
    {
     "name": "stderr",
     "output_type": "stream",
     "text": [
      "C:\\Users\\euphi\\anaconda3\\lib\\site-packages\\sklearn\\linear_model\\_logistic.py:814: ConvergenceWarning: lbfgs failed to converge (status=1):\n",
      "STOP: TOTAL NO. of ITERATIONS REACHED LIMIT.\n",
      "\n",
      "Increase the number of iterations (max_iter) or scale the data as shown in:\n",
      "    https://scikit-learn.org/stable/modules/preprocessing.html\n",
      "Please also refer to the documentation for alternative solver options:\n",
      "    https://scikit-learn.org/stable/modules/linear_model.html#logistic-regression\n",
      "  n_iter_i = _check_optimize_result(\n"
     ]
    }
   ],
   "source": [
    "#使用邏輯斯迴歸訓練模型\n",
    "lr = LogisticRegression().fit(X_train, y_train)\n",
    "\n",
    "#利用訓練好的模型去預測\n",
    "y_lr_pred=lr.predict(X_test)"
   ]
  },
  {
   "cell_type": "markdown",
   "id": "bf933757",
   "metadata": {},
   "source": [
    "#### 2. Decision Tree"
   ]
  },
  {
   "cell_type": "code",
   "execution_count": 54,
   "id": "036f2a1b",
   "metadata": {},
   "outputs": [],
   "source": [
    "dt = DecisionTreeClassifier().fit(X_train, y_train)\n",
    "\n",
    "y_dt_pred=dt.predict(X_test)"
   ]
  },
  {
   "cell_type": "markdown",
   "id": "f34d8922",
   "metadata": {},
   "source": [
    "#### 3. Random Forest"
   ]
  },
  {
   "cell_type": "code",
   "execution_count": 55,
   "id": "e5c137b6",
   "metadata": {},
   "outputs": [],
   "source": [
    "rf=RandomForestClassifier().fit(X_train, y_train)\n",
    "\n",
    "y_rf_pred=rf.predict(X_test)"
   ]
  },
  {
   "cell_type": "markdown",
   "id": "60e39b76",
   "metadata": {},
   "source": [
    "## ROC Curve"
   ]
  },
  {
   "cell_type": "code",
   "execution_count": 73,
   "id": "4970e432",
   "metadata": {},
   "outputs": [
    {
     "name": "stderr",
     "output_type": "stream",
     "text": [
      "C:\\Users\\euphi\\anaconda3\\lib\\site-packages\\sklearn\\utils\\deprecation.py:87: FutureWarning: Function plot_roc_curve is deprecated; Function :func:`plot_roc_curve` is deprecated in 1.0 and will be removed in 1.2. Use one of the class methods: :meth:`sklearn.metric.RocCurveDisplay.from_predictions` or :meth:`sklearn.metric.RocCurveDisplay.from_estimator`.\n",
      "  warnings.warn(msg, category=FutureWarning)\n",
      "C:\\Users\\euphi\\anaconda3\\lib\\site-packages\\sklearn\\utils\\deprecation.py:87: FutureWarning: Function plot_roc_curve is deprecated; Function :func:`plot_roc_curve` is deprecated in 1.0 and will be removed in 1.2. Use one of the class methods: :meth:`sklearn.metric.RocCurveDisplay.from_predictions` or :meth:`sklearn.metric.RocCurveDisplay.from_estimator`.\n",
      "  warnings.warn(msg, category=FutureWarning)\n",
      "C:\\Users\\euphi\\anaconda3\\lib\\site-packages\\sklearn\\utils\\deprecation.py:87: FutureWarning: Function plot_roc_curve is deprecated; Function :func:`plot_roc_curve` is deprecated in 1.0 and will be removed in 1.2. Use one of the class methods: :meth:`sklearn.metric.RocCurveDisplay.from_predictions` or :meth:`sklearn.metric.RocCurveDisplay.from_estimator`.\n",
      "  warnings.warn(msg, category=FutureWarning)\n"
     ]
    },
    {
     "data": {
      "image/png": "[encoded data removed]",
      "text/plain": [
       "<Figure size 432x288 with 1 Axes>"
      ]
     },
     "metadata": {
      "needs_background": "light"
     },
     "output_type": "display_data"
    }
   ],
   "source": [
    "disp=plot_roc_curve(lr, X_test, y_test)\n",
    "plot_roc_curve(dt, X_test, y_test, ax=disp.ax_);\n",
    "plot_roc_curve(rf, X_test, y_test, ax=disp.ax_);\n",
    "\n",
    "#從圖表可知隨機森林的表現最好，其次是邏輯斯回歸，最後才是決策樹\n",
    "#可推測分類建議使用隨機森林模型進行預測會比較好"
   ]
  },
  {
   "cell_type": "markdown",
   "id": "a9bb0c4b",
   "metadata": {},
   "source": [
    "## Feature Importance"
   ]
  },
  {
   "cell_type": "markdown",
   "id": "547bed52",
   "metadata": {},
   "source": [
    "### 1. SelectKBest"
   ]
  },
  {
   "cell_type": "code",
   "execution_count": 57,
   "id": "1575d275",
   "metadata": {},
   "outputs": [],
   "source": [
    "from sklearn.feature_selection import SelectKBest\n",
    "from sklearn.feature_selection import chi2"
   ]
  },
  {
   "cell_type": "code",
   "execution_count": 58,
   "id": "2495d3d6",
   "metadata": {},
   "outputs": [],
   "source": [
    "#score_func: 我們想要使用什麼模型來去選擇重要的特徵，算出特徵重要性\n",
    "#k: 我們想要從data frame裡面選出幾個重要的特徵，這裡選7個\n",
    "ordered_rank_features = SelectKBest(score_func = chi2, k=7)\n",
    "\n",
    "#讓model fit X,y\n",
    "ordered_feature=ordered_rank_features.fit(X,y)"
   ]
  },
  {
   "cell_type": "code",
   "execution_count": 59,
   "id": "62414c00",
   "metadata": {},
   "outputs": [],
   "source": [
    "#製作新的Dataframe，新增一欄位\n",
    "#算出feature score後，將ordered_feature.scores放入新增的欄位中\n",
    "dfscores=pd.DataFrame(ordered_feature.scores_,columns=['Score'])\n",
    "\n",
    "#將原先在X中的欄位放到新設定的dataframe中\n",
    "dfcolumns=pd.DataFrame(X.columns)\n",
    "\n",
    "\n",
    "#合併特徵跟分數\n",
    "features_rank=pd.concat([dfcolumns,dfscores], axis=1)"
   ]
  },
  {
   "cell_type": "code",
   "execution_count": 60,
   "id": "aacabdb1",
   "metadata": {},
   "outputs": [
    {
     "data": {
      "text/html": [
       "<div>\n",
       "<style scoped>\n",
       "    .dataframe tbody tr th:only-of-type {\n",
       "        vertical-align: middle;\n",
       "    }\n",
       "\n",
       "    .dataframe tbody tr th {\n",
       "        vertical-align: top;\n",
       "    }\n",
       "\n",
       "    .dataframe thead th {\n",
       "        text-align: right;\n",
       "    }\n",
       "</style>\n",
       "<table border=\"1\" class=\"dataframe\">\n",
       "  <thead>\n",
       "    <tr style=\"text-align: right;\">\n",
       "      <th></th>\n",
       "      <th>Features</th>\n",
       "      <th>Score</th>\n",
       "    </tr>\n",
       "  </thead>\n",
       "  <tbody>\n",
       "    <tr>\n",
       "      <th>0</th>\n",
       "      <td>Age</td>\n",
       "      <td>21.343234</td>\n",
       "    </tr>\n",
       "    <tr>\n",
       "      <th>1</th>\n",
       "      <td>SiblingsSpouses_Aboard</td>\n",
       "      <td>2.829911</td>\n",
       "    </tr>\n",
       "    <tr>\n",
       "      <th>2</th>\n",
       "      <td>ParentsChildren_Aboard</td>\n",
       "      <td>9.668390</td>\n",
       "    </tr>\n",
       "    <tr>\n",
       "      <th>3</th>\n",
       "      <td>Fare</td>\n",
       "      <td>4460.558492</td>\n",
       "    </tr>\n",
       "    <tr>\n",
       "      <th>4</th>\n",
       "      <td>Sex_male</td>\n",
       "      <td>92.293805</td>\n",
       "    </tr>\n",
       "    <tr>\n",
       "      <th>5</th>\n",
       "      <td>Pclass_2</td>\n",
       "      <td>5.913445</td>\n",
       "    </tr>\n",
       "    <tr>\n",
       "      <th>6</th>\n",
       "      <td>Pclass_3</td>\n",
       "      <td>40.994193</td>\n",
       "    </tr>\n",
       "  </tbody>\n",
       "</table>\n",
       "</div>"
      ],
      "text/plain": [
       "                 Features        Score\n",
       "0                     Age    21.343234\n",
       "1  SiblingsSpouses_Aboard     2.829911\n",
       "2  ParentsChildren_Aboard     9.668390\n",
       "3                    Fare  4460.558492\n",
       "4                Sex_male    92.293805\n",
       "5                Pclass_2     5.913445\n",
       "6                Pclass_3    40.994193"
      ]
     },
     "execution_count": 60,
     "metadata": {},
     "output_type": "execute_result"
    }
   ],
   "source": [
    "features_rank.columns=['Features','Score']\n",
    "features_rank\n",
    "#算出feature importance之後，將feature跟其分數印出來"
   ]
  },
  {
   "cell_type": "code",
   "execution_count": 68,
   "id": "c086befa",
   "metadata": {},
   "outputs": [
    {
     "data": {
      "text/html": [
       "<div>\n",
       "<style scoped>\n",
       "    .dataframe tbody tr th:only-of-type {\n",
       "        vertical-align: middle;\n",
       "    }\n",
       "\n",
       "    .dataframe tbody tr th {\n",
       "        vertical-align: top;\n",
       "    }\n",
       "\n",
       "    .dataframe thead th {\n",
       "        text-align: right;\n",
       "    }\n",
       "</style>\n",
       "<table border=\"1\" class=\"dataframe\">\n",
       "  <thead>\n",
       "    <tr style=\"text-align: right;\">\n",
       "      <th></th>\n",
       "      <th>Features</th>\n",
       "      <th>Score</th>\n",
       "    </tr>\n",
       "  </thead>\n",
       "  <tbody>\n",
       "    <tr>\n",
       "      <th>3</th>\n",
       "      <td>Fare</td>\n",
       "      <td>4460.558492</td>\n",
       "    </tr>\n",
       "    <tr>\n",
       "      <th>4</th>\n",
       "      <td>Sex_male</td>\n",
       "      <td>92.293805</td>\n",
       "    </tr>\n",
       "    <tr>\n",
       "      <th>6</th>\n",
       "      <td>Pclass_3</td>\n",
       "      <td>40.994193</td>\n",
       "    </tr>\n",
       "    <tr>\n",
       "      <th>0</th>\n",
       "      <td>Age</td>\n",
       "      <td>21.343234</td>\n",
       "    </tr>\n",
       "    <tr>\n",
       "      <th>2</th>\n",
       "      <td>ParentsChildren_Aboard</td>\n",
       "      <td>9.668390</td>\n",
       "    </tr>\n",
       "    <tr>\n",
       "      <th>5</th>\n",
       "      <td>Pclass_2</td>\n",
       "      <td>5.913445</td>\n",
       "    </tr>\n",
       "    <tr>\n",
       "      <th>1</th>\n",
       "      <td>SiblingsSpouses_Aboard</td>\n",
       "      <td>2.829911</td>\n",
       "    </tr>\n",
       "  </tbody>\n",
       "</table>\n",
       "</div>"
      ],
      "text/plain": [
       "                 Features        Score\n",
       "3                    Fare  4460.558492\n",
       "4                Sex_male    92.293805\n",
       "6                Pclass_3    40.994193\n",
       "0                     Age    21.343234\n",
       "2  ParentsChildren_Aboard     9.668390\n",
       "5                Pclass_2     5.913445\n",
       "1  SiblingsSpouses_Aboard     2.829911"
      ]
     },
     "execution_count": 68,
     "metadata": {},
     "output_type": "execute_result"
    }
   ],
   "source": [
    "features_rank.nlargest(7,'Score')\n",
    "#將算出來的feature importance根據分數大小進行排序\n",
    "#可知Fare比其他特徵明顯重要，推測消費者較重視此項目"
   ]
  },
  {
   "cell_type": "markdown",
   "id": "769d94df",
   "metadata": {},
   "source": [
    "### 2. ExtraTreesClassifier"
   ]
  },
  {
   "cell_type": "code",
   "execution_count": 69,
   "id": "010f5c01",
   "metadata": {},
   "outputs": [
    {
     "data": {
      "text/plain": [
       "ExtraTreesClassifier()"
      ]
     },
     "execution_count": 69,
     "metadata": {},
     "output_type": "execute_result"
    }
   ],
   "source": [
    "from sklearn.ensemble import ExtraTreesClassifier\n",
    "#將ExtraTreesClassifier引入程式\n",
    "import matplotlib.pyplot as plt\n",
    "#引入繪圖套件\n",
    "model = ExtraTreesClassifier()\n",
    "\n",
    "#使用ExtraTreesClassifier模型fit鐵達尼號乘客資料\n",
    "model.fit(X,y)"
   ]
  },
  {
   "cell_type": "code",
   "execution_count": 70,
   "id": "4c6add6f",
   "metadata": {},
   "outputs": [
    {
     "name": "stdout",
     "output_type": "stream",
     "text": [
      "[0.2548353  0.04435237 0.03757439 0.26440279 0.29157201 0.01783908\n",
      " 0.08942405]\n"
     ]
    }
   ],
   "source": [
    "print(model.feature_importances_)\n",
    "#使用ExtraTreesClassifier算出feature performance分數"
   ]
  },
  {
   "cell_type": "code",
   "execution_count": 72,
   "id": "8d4bf684",
   "metadata": {},
   "outputs": [
    {
     "data": {
      "image/png": "[encoded data removed]",
      "text/plain": [
       "<Figure size 432x288 with 1 Axes>"
      ]
     },
     "metadata": {
      "needs_background": "light"
     },
     "output_type": "display_data"
    }
   ],
   "source": [
    "#index: feature name\n",
    "#將每個feature name對應importance\n",
    "ranked_feautures=pd.Series(model.feature_importances_, index=X.columns)\n",
    " \n",
    "#畫出排名圖表\n",
    "ranked_feautures.nlargest(7).plot(kind='barh', color='pink')\n",
    "plt.show()"
   ]
  },
  {
   "cell_type": "markdown",
   "id": "68a46320",
   "metadata": {},
   "source": [
    "## Information Gain"
   ]
  },
  {
   "cell_type": "code",
   "execution_count": 65,
   "id": "c5ae3426",
   "metadata": {},
   "outputs": [],
   "source": [
    "from sklearn.feature_selection import mutual_info_classif\n",
    "#算出不純資訊(entropy)\n",
    "#計算出資訊含量多不多"
   ]
  },
  {
   "cell_type": "code",
   "execution_count": 66,
   "id": "d80f0bd7",
   "metadata": {},
   "outputs": [],
   "source": [
    "mutual_info=mutual_info_classif(X,y)"
   ]
  },
  {
   "cell_type": "code",
   "execution_count": 67,
   "id": "acdf7083",
   "metadata": {},
   "outputs": [
    {
     "data": {
      "text/plain": [
       "Sex_male                  0.160252\n",
       "Fare                      0.115691\n",
       "Pclass_3                  0.081333\n",
       "Age                       0.027567\n",
       "ParentsChildren_Aboard    0.026482\n",
       "SiblingsSpouses_Aboard    0.000118\n",
       "Pclass_2                  0.000000\n",
       "dtype: float64"
      ]
     },
     "execution_count": 67,
     "metadata": {},
     "output_type": "execute_result"
    }
   ],
   "source": [
    "mutual_data=pd.Series(mutual_info, index=X.columns)\n",
    "#index:X.columns即為x中的feature name\n",
    "#將每個feature name對應的mutual_info算出來的資訊含量數值\n",
    "\n",
    "mutual_data.sort_values(ascending=False)\n",
    "#數值越高，資訊含量越高，由此表可知Sex_male最高\n",
    "#可知Sex_male為 0.160252的資訊含量，以此類推"
   ]
  },
  {
   "cell_type": "code",
   "execution_count": null,
   "id": "9e9991cb",
   "metadata": {},
   "outputs": [],
   "source": []
  },
  {
   "cell_type": "code",
   "execution_count": null,
   "id": "8c38691a",
   "metadata": {},
   "outputs": [],
   "source": []
  },
  {
   "cell_type": "code",
   "execution_count": null,
   "id": "6c98f486",
   "metadata": {},
   "outputs": [],
   "source": []
  }
 ],
 "metadata": {
  "kernelspec": {
   "display_name": "Python 3 (ipykernel)",
   "language": "python",
   "name": "python3"
  },
  "language_info": {
   "codemirror_mode": {
    "name": "ipython",
    "version": 3
   },
   "file_extension": ".py",
   "mimetype": "text/x-python",
   "name": "python",
   "nbconvert_exporter": "python",
   "pygments_lexer": "ipython3",
   "version": "3.9.7"
  }
 },
 "nbformat": 4,
 "nbformat_minor": 5
}
